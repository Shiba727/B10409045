{
 "cells": [
  {
   "cell_type": "code",
   "execution_count": 1,
   "metadata": {
    "collapsed": false
   },
   "outputs": [
    {
     "name": "stdout",
     "output_type": "stream",
     "text": [
      "118\n"
     ]
    },
    {
     "data": {
      "text/plain": [
       "True"
      ]
     },
     "execution_count": 1,
     "metadata": {},
     "output_type": "execute_result"
    }
   ],
   "source": [
    "a=input()\n",
    "len(a) != len(set(a))"
   ]
  },
  {
   "cell_type": "code",
   "execution_count": 2,
   "metadata": {
    "collapsed": false
   },
   "outputs": [
    {
     "name": "stdout",
     "output_type": "stream",
     "text": [
      "Harry belongs to Gryffindor\n"
     ]
    }
   ],
   "source": [
    "HarryPotter=True\n",
    "if HarryPotter:\n",
    "        print(\"Harry belongs to Gryffindor\" )\n",
    "else:\n",
    "       print(\"you're wrong~\")"
   ]
  },
  {
   "cell_type": "code",
   "execution_count": 3,
   "metadata": {
    "collapsed": false
   },
   "outputs": [
    {
     "name": "stdout",
     "output_type": "stream",
     "text": [
      "1\n",
      "2\n",
      "3\n",
      "4\n",
      "5\n",
      "6\n",
      "7\n",
      "8\n",
      "9\n",
      "10\n"
     ]
    }
   ],
   "source": [
    "count = 1 \n",
    "while count <=10 :\n",
    "    print(count)\n",
    "    count += 1"
   ]
  },
  {
   "cell_type": "code",
   "execution_count": 4,
   "metadata": {
    "collapsed": false
   },
   "outputs": [
    {
     "name": "stdout",
     "output_type": "stream",
     "text": [
      "裡面是空的!\n"
     ]
    }
   ],
   "source": [
    "some_list = []\n",
    "if some_list:\n",
    "    print(\"裡面有東西\")\n",
    "else:\n",
    "    print(\"裡面是空的!\")"
   ]
  },
  {
   "cell_type": "code",
   "execution_count": null,
   "metadata": {
    "collapsed": false
   },
   "outputs": [
    {
     "name": "stdout",
     "output_type": "stream",
     "text": [
      "魯夫吃下的果實是哪個系的？自然系\n",
      "你也太混了吧\n",
      "魯夫吃下的果實是哪個系的？特殊系\n",
      "你也太混了吧\n"
     ]
    }
   ],
   "source": [
    "while True:\n",
    "    name = input(\"魯夫吃下的果實是哪個系的？\")\n",
    "    if name == \"超人系\":      \n",
    "        print(\"你是海賊迷\")\n",
    "        break\n",
    "    else:\n",
    "        print(\"你也太混了吧\")"
   ]
  },
  {
   "cell_type": "code",
   "execution_count": null,
   "metadata": {
    "collapsed": true
   },
   "outputs": [],
   "source": []
  }
 ],
 "metadata": {
  "kernelspec": {
   "display_name": "Python 3",
   "language": "python",
   "name": "python3"
  },
  "language_info": {
   "codemirror_mode": {
    "name": "ipython",
    "version": 3
   },
   "file_extension": ".py",
   "mimetype": "text/x-python",
   "name": "python",
   "nbconvert_exporter": "python",
   "pygments_lexer": "ipython3",
   "version": "3.4.3"
  }
 },
 "nbformat": 4,
 "nbformat_minor": 0
}
