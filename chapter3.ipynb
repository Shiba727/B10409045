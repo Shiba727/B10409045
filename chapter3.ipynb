{
 "cells": [
  {
   "cell_type": "code",
   "execution_count": 12,
   "metadata": {
    "collapsed": false
   },
   "outputs": [
    {
     "data": {
      "text/plain": [
       "4"
      ]
     },
     "execution_count": 12,
     "metadata": {},
     "output_type": "execute_result"
    }
   ],
   "source": [
    "letters='1234'\n",
    "len(letters)"
   ]
  },
  {
   "cell_type": "code",
   "execution_count": 9,
   "metadata": {
    "collapsed": false
   },
   "outputs": [
    {
     "data": {
      "text/plain": [
       "134"
      ]
     },
     "execution_count": 9,
     "metadata": {},
     "output_type": "execute_result"
    }
   ],
   "source": [
    "news='根據《紐約郵報》報導，SUBWAY目前正因為去年度的銷售額出現逾十年來的首次下滑、再加上其代言人Jared Fogle身陷性醜聞風波而顯得烏雲罩頂；據了解，SUBWAY於2014年在美國的銷售額下滑3.3%至119億美元，是全美前25大速食連鎖業者中衰退幅度最大的品牌'\n",
    "len(news)"
   ]
  },
  {
   "cell_type": "code",
   "execution_count": 8,
   "metadata": {
    "collapsed": false
   },
   "outputs": [
    {
     "data": {
      "text/plain": [
       "['根據《紐約郵報》報導',\n",
       " 'SUBWAY目前正因為去年度的銷售額出現逾十年來的首次下滑、再加上其代言人Jared Fogle身陷性醜聞風波而顯得烏雲罩頂']"
      ]
     },
     "execution_count": 8,
     "metadata": {},
     "output_type": "execute_result"
    }
   ],
   "source": [
    "news='根據《紐約郵報》報導,SUBWAY目前正因為去年度的銷售額出現逾十年來的首次下滑、再加上其代言人Jared Fogle身陷性醜聞風波而顯得烏雲罩頂'\n",
    "news.split(',')"
   ]
  },
  {
   "cell_type": "code",
   "execution_count": 7,
   "metadata": {
    "collapsed": false
   },
   "outputs": [
    {
     "data": {
      "text/plain": [
       "['This month',\n",
       " 'the Department of Education released the College Scorecard',\n",
       " 'a tool commissioned by the Obama administration to help students make better choices about college',\n",
       " 'and about spending money on college.']"
      ]
     },
     "execution_count": 7,
     "metadata": {},
     "output_type": "execute_result"
    }
   ],
   "source": [
    "todos='This month,the Department of Education released the College Scorecard,a tool commissioned by the Obama administration to help students make better choices about college,and about spending money on college.'\n",
    "todos.split(',')"
   ]
  },
  {
   "cell_type": "code",
   "execution_count": 13,
   "metadata": {
    "collapsed": false
   },
   "outputs": [
    {
     "data": {
      "text/plain": [
       "['哈哈', '你覺得', '很好笑嗎']"
      ]
     },
     "execution_count": 13,
     "metadata": {},
     "output_type": "execute_result"
    }
   ],
   "source": [
    "joke='哈哈:你覺得:很好笑嗎'\n",
    "joke.split(':')"
   ]
  },
  {
   "cell_type": "code",
   "execution_count": 14,
   "metadata": {
    "collapsed": false
   },
   "outputs": [
    {
     "name": "stdout",
     "output_type": "stream",
     "text": [
      "台,北,市,長,柯,文,哲,表,示,,,從,下,,,個,月,起,，,北,市,首,長,宿,舍,使,用,費,將,,,漲,價,,,認,為,既,然,要,,,省,錢,,,就,該,由,上,而,下,,,先,省,政,府,再,省,,,民,間\n"
     ]
    }
   ],
   "source": [
    "news2='台北市長柯文哲表示,從下,個月起，北市首長宿舍使用費將,漲價,認為既然要,省錢,就該由上而下,先省政府再省,民間'\n",
    "news2=','.join(news2)\n",
    "print(news2)"
   ]
  },
  {
   "cell_type": "code",
   "execution_count": 27,
   "metadata": {
    "collapsed": false
   },
   "outputs": [],
   "source": [
    "import requests\n",
    "response=requests.get(\"http://www.novelscape.net/wxxs/j/jingyong/ldj/038.htm\")\n",
    "response.encoding=\"big5\"\n",
    "book1=response.text"
   ]
  },
  {
   "cell_type": "code",
   "execution_count": 28,
   "metadata": {
    "collapsed": false
   },
   "outputs": [
    {
     "data": {
      "text/plain": [
       "195"
      ]
     },
     "execution_count": 28,
     "metadata": {},
     "output_type": "execute_result"
    }
   ],
   "source": [
    "word1='小寶'\n",
    "book1.count(word1)"
   ]
  },
  {
   "cell_type": "code",
   "execution_count": null,
   "metadata": {
    "collapsed": true
   },
   "outputs": [],
   "source": []
  },
  {
   "cell_type": "code",
   "execution_count": null,
   "metadata": {
    "collapsed": true
   },
   "outputs": [],
   "source": []
  }
 ],
 "metadata": {
  "kernelspec": {
   "display_name": "Python 3",
   "language": "python",
   "name": "python3"
  },
  "language_info": {
   "codemirror_mode": {
    "name": "ipython",
    "version": 3
   },
   "file_extension": ".py",
   "mimetype": "text/x-python",
   "name": "python",
   "nbconvert_exporter": "python",
   "pygments_lexer": "ipython3",
   "version": "3.4.3"
  }
 },
 "nbformat": 4,
 "nbformat_minor": 0
}
