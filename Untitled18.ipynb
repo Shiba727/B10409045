{
 "cells": [
  {
   "cell_type": "code",
   "execution_count": 1,
   "metadata": {
    "collapsed": false
   },
   "outputs": [
    {
     "data": {
      "text/plain": [
       "[('星期一', '哈利波特-神秘的魔法石'),\n",
       " ('星期二', '哈利波特-消失的密室'),\n",
       " ('星期三', '哈利波特-阿茲卡班的逃犯'),\n",
       " ('星期四', '哈利波特-火盃的考驗'),\n",
       " ('星期五', '哈利波特-鳳凰會的密令'),\n",
       " ('星期六', '哈利波特-混血王子的背叛'),\n",
       " ('星期日', '哈利波特-死神的聖物')]"
      ]
     },
     "execution_count": 1,
     "metadata": {},
     "output_type": "execute_result"
    }
   ],
   "source": [
    "day=[\"星期一\",\"星期二\",\"星期三\",\"星期四\",\"星期五\",\"星期六\",\"星期日\"]\n",
    "movie=[\"哈利波特-神秘的魔法石\",\"哈利波特-消失的密室\",\"哈利波特-阿茲卡班的逃犯\",\"哈利波特-火盃的考驗\",\"哈利波特-鳳凰會的密令\",\"哈利波特-混血王子的背叛\",\"哈利波特-死神的聖物\"]\n",
    "list(zip(day,movie))"
   ]
  },
  {
   "cell_type": "code",
   "execution_count": 3,
   "metadata": {
    "collapsed": false
   },
   "outputs": [
    {
     "data": {
      "text/plain": [
       "[1, 4, 7, 10]"
      ]
     },
     "execution_count": 3,
     "metadata": {},
     "output_type": "execute_result"
    }
   ],
   "source": [
    "list(range(1,11,3))"
   ]
  },
  {
   "cell_type": "code",
   "execution_count": 6,
   "metadata": {
    "collapsed": false
   },
   "outputs": [
    {
     "data": {
      "text/plain": [
       "[1, 3, 5, 7]"
      ]
     },
     "execution_count": 6,
     "metadata": {},
     "output_type": "execute_result"
    }
   ],
   "source": [
    "number_list=[number for number in range(1,8) if number % 2 ==1]\n",
    "number_list"
   ]
  },
  {
   "cell_type": "code",
   "execution_count": 8,
   "metadata": {
    "collapsed": false
   },
   "outputs": [],
   "source": [
    "def your_way():\n",
    "    print(\"what kind of lives you want?\")"
   ]
  },
  {
   "cell_type": "code",
   "execution_count": 10,
   "metadata": {
    "collapsed": false
   },
   "outputs": [
    {
     "name": "stdout",
     "output_type": "stream",
     "text": [
      "what kind of lives you want?\n"
     ]
    }
   ],
   "source": [
    "your_way()"
   ]
  },
  {
   "cell_type": "code",
   "execution_count": 11,
   "metadata": {
    "collapsed": true
   },
   "outputs": [],
   "source": [
    "def way():\n",
    "    return True"
   ]
  },
  {
   "cell_type": "code",
   "execution_count": 12,
   "metadata": {
    "collapsed": false
   },
   "outputs": [
    {
     "name": "stdout",
     "output_type": "stream",
     "text": [
      "just the way you are\n"
     ]
    }
   ],
   "source": [
    "if way():\n",
    "    print('just the way you are')\n",
    "else:\n",
    "    print(\"there's no way\")"
   ]
  },
  {
   "cell_type": "code",
   "execution_count": 15,
   "metadata": {
    "collapsed": false
   },
   "outputs": [
    {
     "name": "stdout",
     "output_type": "stream",
     "text": [
      "cause you are amazing cause you are amazing\n"
     ]
    }
   ],
   "source": [
    "def echo(anything):\n",
    "    return print(anything, anything)\n",
    "echo('cause you are amazing')"
   ]
  },
  {
   "cell_type": "code",
   "execution_count": 16,
   "metadata": {
    "collapsed": false
   },
   "outputs": [
    {
     "data": {
      "text/plain": [
       "{'主菜': 'pasta', '甜點': 'pudding', '酒': 'pinot noir'}"
      ]
     },
     "execution_count": 16,
     "metadata": {},
     "output_type": "execute_result"
    }
   ],
   "source": [
    "def menu(wine, entree, dessert):\n",
    "    return {'酒':wine, '主菜':entree, '甜點':dessert}\n",
    "menu('pinot noir',\"pasta\",\"pudding\")"
   ]
  },
  {
   "cell_type": "code",
   "execution_count": 17,
   "metadata": {
    "collapsed": false
   },
   "outputs": [
    {
     "name": "stdout",
     "output_type": "stream",
     "text": [
      "這次的引數是 ('Happy', 'New', 'year')\n"
     ]
    }
   ],
   "source": [
    "def print_args(*hello):\n",
    "    print('這次的引數是',hello)\n",
    "print_args(\"Happy\",\"New\",\"year\")    "
   ]
  },
  {
   "cell_type": "code",
   "execution_count": 19,
   "metadata": {
    "collapsed": false
   },
   "outputs": [
    {
     "name": "stdout",
     "output_type": "stream",
     "text": [
      "主角 哈利波特\n",
      "主角 妙麗\n",
      "配角們 ('奈威', '弗雷', '李‧喬丹')\n"
     ]
    }
   ],
   "source": [
    "def print_more(word1,word2,*args):\n",
    "    print('主角',word1)\n",
    "    print('主角',word2)\n",
    "    print('配角們',args)\n",
    "print_more(\"哈利波特\",\"妙麗\",\"奈威\",\"弗雷\",\"李‧喬丹\")"
   ]
  },
  {
   "cell_type": "code",
   "execution_count": 21,
   "metadata": {
    "collapsed": false
   },
   "outputs": [
    {
     "name": "stdout",
     "output_type": "stream",
     "text": [
      "keyword: {'Monday': '上課', 'Saturday': '放假'}\n"
     ]
    }
   ],
   "source": [
    "def print_kwargs(**kwargs):\n",
    "    print('keyword:',kwargs)\n",
    "print_kwargs(Monday=\"上課\" , Saturday=\"放假\")    "
   ]
  },
  {
   "cell_type": "code",
   "execution_count": 22,
   "metadata": {
    "collapsed": false
   },
   "outputs": [
    {
     "name": "stdout",
     "output_type": "stream",
     "text": [
      "Help on function echo in module __main__:\n",
      "\n",
      "echo(anything)\n",
      "    這個蛋糕很香很好吃\n",
      "\n"
     ]
    }
   ],
   "source": [
    "def echo(anything):\n",
    "    '這個蛋糕很香很好吃'\n",
    "    return anything\n",
    "help(echo)"
   ]
  },
  {
   "cell_type": "code",
   "execution_count": 32,
   "metadata": {
    "collapsed": false
   },
   "outputs": [],
   "source": [
    "def Exchange(a):\n",
    "    return True\n",
    "    a=input(\"請輸入想知道幣別：(按q退出)\")\n",
    "    if a==\"日圓\":\n",
    "        print(\"1 TWD= 3.75 JPY\")\n",
    "    elif a==\"美金\":\n",
    "        print(\"1 TWD= 0.03 USD\")\n",
    "    elif a==\"歐元\":\n",
    "        print(\"1 TWD= 0.03 EUR\")\n",
    "    elif a==\"澳幣\":\n",
    "        print(\"1 TWD= 0.04 AUD\")\n",
    "    elif a==\"港幣\":\n",
    "        print(\"1 TWD= 0.24 HKD\")\n",
    "    elif a==\"人民幣\":\n",
    "        print(\"1 TWD= 0.20 CNY\")\n",
    "    elif a==\"英鎊\":\n",
    "        print(\"1 TWD= 0.02 GBP\")\n",
    "    elif a==\"加拿大元\":\n",
    "        print(\"1 TWD= 0.04 CAD\")\n",
    "    elif a==\"韓元\":\n",
    "        print(\"1 TWD= 35.66 KRW\")\n",
    "    elif a==\"澳門元\":\n",
    "        print(\"1 TWD= 0.24 MOP\")\n",
    "    elif a==\"盧布\":\n",
    "        print(\"1 TWD= 2.07 RUB\")\n",
    "    elif a==\"馬爾地夫\":\n",
    "        print(\"1 TWD= 0.47 MVR\")\n",
    "    elif a==\"埃及鎊\":\n",
    "        print(\"1 TWD= 0.24 EGP\")\n",
    "    elif a==\"新加坡\":\n",
    "        print(\"1 TWD= 0.04 SGD\")\n",
    "    elif a==\"馬來西亞\":\n",
    "        print(\"1 TWD= 0.13 MYR\")\n",
    "    elif a==\"泰銖\":\n",
    "        print(\"1 TWD= 1.09 THB\")\n",
    "    elif a==\"菲律賓\":\n",
    "        print(\"1 TWD= 1.44 PHP\")\n",
    "    elif a==\"印尼盾\":\n",
    "        print(\"1 TWD=423.25 IDR\")\n",
    "    else:\n",
    "        print(\"本系統更新中---------請稍後\")\n"
   ]
  },
  {
   "cell_type": "code",
   "execution_count": 33,
   "metadata": {
    "collapsed": false
   },
   "outputs": [
    {
     "data": {
      "text/plain": [
       "True"
      ]
     },
     "execution_count": 33,
     "metadata": {},
     "output_type": "execute_result"
    }
   ],
   "source": [
    "Exchange(\"日圓\")"
   ]
  }
 ],
 "metadata": {
  "kernelspec": {
   "display_name": "Python 3",
   "language": "python",
   "name": "python3"
  },
  "language_info": {
   "codemirror_mode": {
    "name": "ipython",
    "version": 3
   },
   "file_extension": ".py",
   "mimetype": "text/x-python",
   "name": "python",
   "nbconvert_exporter": "python",
   "pygments_lexer": "ipython3",
   "version": "3.4.3"
  }
 },
 "nbformat": 4,
 "nbformat_minor": 0
}
